{
 "cells": [
  {
   "cell_type": "code",
   "execution_count": 1,
   "metadata": {},
   "outputs": [
    {
     "name": "stdout",
     "output_type": "stream",
     "text": [
      "List angka: [32, 25, 22, 18, 15, 10, 7, 5, 2]\n",
      "3 Nilai Terbesar:\n",
      "32\n",
      "25\n",
      "22\n"
     ]
    }
   ],
   "source": [
    "def cari_3_terbesar(list_angka):\n",
    "    # Mengurutkan list secara descending (dari terbesar ke terkecil)\n",
    "    list_angka.sort(reverse=True)\n",
    "    \n",
    "    # Mengambil 3 nilai terbesar\n",
    "    tiga_terbesar = list_angka[:3]\n",
    "    \n",
    "    return tiga_terbesar\n",
    "\n",
    "# Contoh penggunaan\n",
    "angka = [5, 18, 2, 25, 7, 32, 10, 22, 15]\n",
    "tiga_nilai_terbaik = cari_3_terbesar(angka)\n",
    "\n",
    "print(\"List angka:\", angka)\n",
    "print(\"3 Nilai Terbesar:\")\n",
    "for nilai in tiga_nilai_terbaik:\n",
    "    print(nilai)"
   ]
  },
  {
   "cell_type": "code",
   "execution_count": 2,
   "metadata": {},
   "outputs": [
    {
     "name": "stdout",
     "output_type": "stream",
     "text": [
      "Deretan angka yang dimasukkan: [27, 50, 13, 40, 71, 32, 10, 1, 4, 60, 100, 34, 20, 67, 89, 109, 200, 5, 3, 10, 3, 5, 3, 10, 8]\n",
      "Nilai maksimum: 200\n",
      "Nilai minimum: 1\n"
     ]
    }
   ],
   "source": [
    "angka = []  # Membuat list kosong untuk menyimpan angka\n",
    "\n",
    "while True:\n",
    "    masukan = input(\"Masukkan sebuah angka (atau 'done' untuk berhenti): \")\n",
    "    \n",
    "    if masukan.lower() == 'done':\n",
    "        break  # Keluar dari loop jika pengguna memasukkan 'done'\n",
    "    \n",
    "    try:\n",
    "        angka.append(int(masukan))  # Mengonversi input menjadi bilangan bulat dan menambahkannya ke list\n",
    "    except ValueError:\n",
    "        print(\"Input tidak valid. Mohon masukkan sebuah angka atau 'done'.\")\n",
    "        continue  # Melanjutkan ke iterasi loop berikutnya\n",
    "\n",
    "if len(angka) > 0:\n",
    "    nilai_maksimum = max(angka)\n",
    "    nilai_minimum = min(angka)\n",
    "    \n",
    "    print(\"Deretan angka yang dimasukkan:\", angka)\n",
    "    print(\"Nilai maksimum:\", nilai_maksimum)\n",
    "    print(\"Nilai minimum:\", nilai_minimum)\n",
    "else:\n",
    "    print(\"Tidak ada angka yang dimasukkan.\")"
   ]
  },
  {
   "cell_type": "code",
   "execution_count": 2,
   "metadata": {},
   "outputs": [
    {
     "name": "stdout",
     "output_type": "stream",
     "text": [
      "Kata unik dalam file berita:\n",
      "2024.\n"
     ]
    }
   ],
   "source": [
    "# Membaca file berita.txt\n",
    "with open('berita.txt', 'r', encoding='utf-8') as file:\n",
    "    teks_berita = file.read()\n",
    "\n",
    "# Memisahkan teks menjadi kalimat\n",
    "kalimat = teks_berita.split('. ')\n",
    "\n",
    "# Variabel untuk menyimpan kata unik\n",
    "kata = []\n",
    "\n",
    "# Memproses setiap kalimat\n",
    "for kalimat_tunggal in kalimat:\n",
    "    # Memisahkan kalimat menjadi kata\n",
    "    kata_dalam_kalimat = kalimat_tunggal.split()\n",
    "    \n",
    "    # Menambahkan kata unik ke dalam list kata\n",
    "    for kata_unik in kata_dalam_kalimat:\n",
    "        if kata_unik not in kata:\n",
    "            kata.append(kata_unik)\n",
    "\n",
    "# Menampilkan hasil\n",
    "print(\"Kata unik dalam file berita:\")\n",
    "\n",
    "print(kata)"
   ]
  }
 ],
 "metadata": {
  "kernelspec": {
   "display_name": "Python 3",
   "language": "python",
   "name": "python3"
  },
  "language_info": {
   "codemirror_mode": {
    "name": "ipython",
    "version": 3
   },
   "file_extension": ".py",
   "mimetype": "text/x-python",
   "name": "python",
   "nbconvert_exporter": "python",
   "pygments_lexer": "ipython3",
   "version": "3.12.3"
  }
 },
 "nbformat": 4,
 "nbformat_minor": 2
}
